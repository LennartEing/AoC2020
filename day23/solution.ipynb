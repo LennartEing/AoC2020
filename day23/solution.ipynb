{
 "cells": [
  {
   "cell_type": "code",
   "execution_count": 67,
   "metadata": {},
   "outputs": [
    {
     "name": "stdout",
     "output_type": "stream",
     "text": [
      "27865934\n"
     ]
    }
   ],
   "source": [
    "from collections import deque\n",
    "\n",
    "filename = \"./input.txt\"\n",
    "with open(filename) as f:\n",
    "    content = [line.strip() for line in f.readlines()]\n",
    "\n",
    "[labels] = content\n",
    "labels = deque([int(label) for label in labels[::-1]])\n",
    "\n",
    "def move(labels):\n",
    "    max_val = max(labels)\n",
    "    current_cup = labels[-1]\n",
    "    labels.rotate()\n",
    "    first = labels.pop()\n",
    "    second = labels.pop()\n",
    "    third = labels.pop()\n",
    "    idx = None\n",
    "    sub = 1\n",
    "    while not idx:\n",
    "        search_num = (current_cup - sub) % (max_val + 1)\n",
    "        idx = labels.index(search_num) if search_num in labels else None\n",
    "        sub += 1\n",
    "    labels.rotate(len(labels) - idx)\n",
    "    labels.appendleft(first)\n",
    "    labels.appendleft(second)\n",
    "    labels.appendleft(third)\n",
    "    idx = labels.index(current_cup)\n",
    "    labels.rotate(len(labels) - idx)\n",
    "    \n",
    "for _ in range(100):\n",
    "    move(labels)\n",
    "    \n",
    "idx = labels.index(1)\n",
    "labels.rotate(len(labels) - idx - 1)\n",
    "labels.pop()\n",
    "string = ''\n",
    "while len(labels) > 0:\n",
    "    string += str(labels.pop())\n",
    "print(string)"
   ]
  },
  {
   "cell_type": "code",
   "execution_count": null,
   "metadata": {},
   "outputs": [],
   "source": [
    "# I couldn't find a way to figure out part 2."
   ]
  }
 ],
 "metadata": {
  "kernelspec": {
   "display_name": "Python 3",
   "language": "python",
   "name": "python3"
  },
  "language_info": {
   "codemirror_mode": {
    "name": "ipython",
    "version": 3
   },
   "file_extension": ".py",
   "mimetype": "text/x-python",
   "name": "python",
   "nbconvert_exporter": "python",
   "pygments_lexer": "ipython3",
   "version": "3.8.5"
  }
 },
 "nbformat": 4,
 "nbformat_minor": 4
}
