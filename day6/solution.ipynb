{
 "cells": [
  {
   "cell_type": "code",
   "execution_count": 36,
   "metadata": {},
   "outputs": [
    {
     "name": "stdout",
     "output_type": "stream",
     "text": [
      "6549\n"
     ]
    }
   ],
   "source": [
    "filename = \"./input.txt\"\n",
    "with open(filename) as f:\n",
    "    content = f.readlines()\n",
    "content = [line.strip() for line in content]\n",
    "idx_list = [idx + 1 for idx, val in enumerate(content) if val == ''] \n",
    "content = [content[i: j] for i, j in zip([0] + idx_list, idx_list + ([len(content)] if idx_list[-1] != len(content) else []))]\n",
    "content = [list(filter(('').__ne__, line)) for line in content]\n",
    "\n",
    "group_answers = [''.join(line) for line in content]\n",
    "answer_sets = [set(line) for line in group_answers]\n",
    "number_of_answered_questions = [len(line) for line in answer_sets]\n",
    "answer = sum(number_of_answered_questions)\n",
    "print(answer)"
   ]
  },
  {
   "cell_type": "code",
   "execution_count": 37,
   "metadata": {},
   "outputs": [
    {
     "name": "stdout",
     "output_type": "stream",
     "text": [
      "3466\n"
     ]
    }
   ],
   "source": [
    "set_answers = [[set(answers) for answers in group] for group in content]\n",
    "intersections = [set.intersection(*group) for group in set_answers]\n",
    "numbers = [len(intersection) for intersection in intersections]\n",
    "answer = sum(numbers)\n",
    "print(answer)"
   ]
  },
  {
   "cell_type": "code",
   "execution_count": null,
   "metadata": {},
   "outputs": [],
   "source": []
  }
 ],
 "metadata": {
  "kernelspec": {
   "display_name": "Python 3",
   "language": "python",
   "name": "python3"
  },
  "language_info": {
   "codemirror_mode": {
    "name": "ipython",
    "version": 3
   },
   "file_extension": ".py",
   "mimetype": "text/x-python",
   "name": "python",
   "nbconvert_exporter": "python",
   "pygments_lexer": "ipython3",
   "version": "3.7.6"
  }
 },
 "nbformat": 4,
 "nbformat_minor": 4
}
