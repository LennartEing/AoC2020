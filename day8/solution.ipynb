{
 "cells": [
  {
   "cell_type": "code",
   "execution_count": 33,
   "metadata": {},
   "outputs": [
    {
     "data": {
      "text/plain": [
       "(False, 306, 1782)"
      ]
     },
     "execution_count": 33,
     "metadata": {},
     "output_type": "execute_result"
    }
   ],
   "source": [
    "filename = \"./input.txt\"\n",
    "with open(filename) as f:\n",
    "    \n",
    "    #Read file and transform into (instruction, instructionvalue)-tuples.\n",
    "    content = f.readlines()\n",
    "    content = [line.strip() for line in content]\n",
    "    content = [line.split(' ') for line in content]\n",
    "    content = [tuple(line) for line in content]\n",
    "\n",
    "def execute(instructions):\n",
    "    \n",
    "    #Program setup\n",
    "    accumulator = 0\n",
    "    instructionindex = 0\n",
    "    executedinstructions = []\n",
    "    \n",
    "    #Try to execute the program\n",
    "    while instructionindex in range(len(instructions)):\n",
    "        \n",
    "        #Stop execution when we already have seen the program\n",
    "        if instructionindex in executedinstructions:\n",
    "            return (False, instructionindex, accumulator)\n",
    "        \n",
    "        #Execute different instructions\n",
    "        instruction = instructions[instructionindex]\n",
    "        executedinstructions.append(instructionindex)\n",
    "        if instruction[0] == 'acc':\n",
    "            accumulator += int(instruction[1])\n",
    "            instructionindex += 1\n",
    "        elif instruction[0] == 'jmp':\n",
    "            instructionindex += int(instruction[1])\n",
    "        elif instruction[0] == 'nop':\n",
    "            instructionindex += 1\n",
    "    \n",
    "    #Return when execution worked\n",
    "    return (True, instructionindex, accumulator)\n",
    "        \n",
    "execute(content)"
   ]
  },
  {
   "cell_type": "code",
   "execution_count": 35,
   "metadata": {},
   "outputs": [
    {
     "name": "stdout",
     "output_type": "stream",
     "text": [
      "(True, 611, 797)\n"
     ]
    }
   ],
   "source": [
    "def removeloop(instructionset):\n",
    "    \n",
    "    #Try changing every instruction. \n",
    "    for changedinstruction in range(len(instructionset)):\n",
    "        \n",
    "        #Copy, so as to not change original instruction set, because i dont't know wether\n",
    "        #or not python uses call by value on lists.\n",
    "        changeableinstructionset = instructionset.copy()\n",
    "        instruction = changeableinstructionset[changedinstruction]\n",
    "        \n",
    "        #Change instructions\n",
    "        if instruction[0] == 'nop':\n",
    "            changeableinstructionset[changedinstruction] = ('jmp', instruction[1])\n",
    "        elif instruction[0] == 'jmp':\n",
    "            changeableinstructionset[changedinstruction] = ('nop', instruction[1])\n",
    "        \n",
    "        #Try execution\n",
    "        executionresult = execute(changeableinstructionset)\n",
    "        \n",
    "        #Return if removing the loop acutally worked an return changed instruction set.\n",
    "        if executionresult[0]:\n",
    "            return (True, changedinstruction, changeableinstructionset)\n",
    "        \n",
    "    #Didn't work\n",
    "    return (False, -1, instructionset)\n",
    "\n",
    "res = removeloop(content)\n",
    "executionresult = execute(res[2])\n",
    "print(executionresult)"
   ]
  },
  {
   "cell_type": "code",
   "execution_count": null,
   "metadata": {},
   "outputs": [],
   "source": []
  }
 ],
 "metadata": {
  "kernelspec": {
   "display_name": "Python 3",
   "language": "python",
   "name": "python3"
  },
  "language_info": {
   "codemirror_mode": {
    "name": "ipython",
    "version": 3
   },
   "file_extension": ".py",
   "mimetype": "text/x-python",
   "name": "python",
   "nbconvert_exporter": "python",
   "pygments_lexer": "ipython3",
   "version": "3.7.6"
  }
 },
 "nbformat": 4,
 "nbformat_minor": 4
}
