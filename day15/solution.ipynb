{
 "cells": [
  {
   "cell_type": "code",
   "execution_count": 2,
   "metadata": {},
   "outputs": [
    {
     "name": "stdout",
     "output_type": "stream",
     "text": [
      "1696\n",
      "1696\n",
      "37385\n"
     ]
    }
   ],
   "source": [
    "import numpy as np\n",
    "\n",
    "filename = \"./input.txt\"\n",
    "with open(filename) as f:\n",
    "    content = [line.strip().split(',') for line in f.readlines()]\n",
    "numbersets = list(map(lambda l: list(map(lambda c: int(c), l)), content))\n",
    "\n",
    "def part1(numberset, depth):\n",
    "    '''Solution for part 1 with tail recursion. Does not work for part 2 because of maximum recursion depth\n",
    "    on my machine.'''\n",
    "    \n",
    "    def hasBeenSpoken(numberset, number):\n",
    "        return number in numberset[:-1]\n",
    "\n",
    "    def lastIndex(numberset, number):\n",
    "        reversedWithoutLast = numberset[-2::-1]\n",
    "        return len(reversedWithoutLast) - reversedWithoutLast.index(number)\n",
    "    \n",
    "    if depth == 0:\n",
    "        return numberset\n",
    "    num = numberset[-1]\n",
    "    if hasBeenSpoken(numberset, num):\n",
    "        lastIdx = lastIndex(numberset, num)\n",
    "        newNum = len(numberset) - lastIdx\n",
    "        return part1(numberset + [newNum], depth - 1)\n",
    "    else:\n",
    "        return part1(numberset + [0], depth - 1)\n",
    "    \n",
    "    \n",
    "def part1dictsol(numberset, depth):\n",
    "    '''Redid the whole thing in a dict solution, because this should be much faster.\n",
    "    This should solve time and max recursion depth issues caused in part 2.\n",
    "    \n",
    "    This is much fast because if keys are inserted into the dictionary in a sorted manner\n",
    "    they take O(log(n)), as well as finding any given last index.\n",
    "    This means, if I am thinking right, that the problem complexity should be O(n * log(n))\n",
    "    witha  dict solution, where as reversing the list of part two takes O(n) in itself.\n",
    "    \n",
    "    Maybe a deque would have solved that problem too.'''\n",
    "    \n",
    "    def todict(numberset):\n",
    "        return {num: index for index, num in enumerate(numberset)}\n",
    "    \n",
    "    def spokenbefore(numberdict, num):\n",
    "        return num in numberdict.keys()\n",
    "    \n",
    "    num = part1(numberset, 1)[-1]\n",
    "    numberdict = todict(numberset)\n",
    "    test = numberset.copy()\n",
    "    for currentdepth in range(len(numberset), depth - 1):\n",
    "        test.append(num)\n",
    "        if spokenbefore(numberdict, num):\n",
    "            nextnum = currentdepth - numberdict[num]\n",
    "            numberdict[num] = currentdepth\n",
    "            num = nextnum\n",
    "        else:\n",
    "            numberdict[num] = currentdepth\n",
    "            num = 0\n",
    "    return num\n",
    "        \n",
    "        \n",
    "            \n",
    "        \n",
    "print(part1dictsol(numbersets[0], 2020))\n",
    "print(part1(numbersets[0], 2020 - len(numbersets[0]))[-1])\n",
    "\n",
    "## PART 2\n",
    "print(part1dictsol(numbersets[0], 30000000))"
   ]
  },
  {
   "cell_type": "code",
   "execution_count": null,
   "metadata": {},
   "outputs": [],
   "source": []
  }
 ],
 "metadata": {
  "kernelspec": {
   "display_name": "Python 3",
   "language": "python",
   "name": "python3"
  },
  "language_info": {
   "codemirror_mode": {
    "name": "ipython",
    "version": 3
   },
   "file_extension": ".py",
   "mimetype": "text/x-python",
   "name": "python",
   "nbconvert_exporter": "python",
   "pygments_lexer": "ipython3",
   "version": "3.8.5"
  }
 },
 "nbformat": 4,
 "nbformat_minor": 4
}
