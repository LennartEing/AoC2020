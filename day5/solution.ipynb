{
 "cells": [
  {
   "cell_type": "code",
   "execution_count": 12,
   "metadata": {},
   "outputs": [
    {
     "name": "stdout",
     "output_type": "stream",
     "text": [
      "959\n"
     ]
    }
   ],
   "source": [
    "filename = \"./input.txt\"\n",
    "with open(filename) as f:\n",
    "    content = f.readlines()\n",
    "\n",
    "#Make the input nice and smooth by removing whitespace\n",
    "content = [line.strip() for line in content]\n",
    "\n",
    "#Create all seats, that can exist.\n",
    "seats = [[row * 8 + col for col in range(8)] for row in range(128)]\n",
    "\n",
    "taken_seats = []\n",
    "for encoding in content:\n",
    "    row = seats\n",
    "    #Binary search the correct row\n",
    "    for c in encoding[:7]:\n",
    "        if c == 'F':\n",
    "            row = row[:len(row)//2]\n",
    "        if c == 'B':\n",
    "            row = row[len(row)//2:]\n",
    "    seat = row[0]\n",
    "    #Binary search the correct column\n",
    "    for c in encoding[7:]:\n",
    "        if c == 'L':\n",
    "            seat = seat[:len(seat)//2]\n",
    "        if c == 'R':\n",
    "            seat = seat[len(seat)//2:]\n",
    "    taken_seats.append(seat[0])\n",
    "#Highest id is the answer.\n",
    "print(max(taken_seats))       "
   ]
  },
  {
   "cell_type": "code",
   "execution_count": 15,
   "metadata": {},
   "outputs": [
    {
     "name": "stdout",
     "output_type": "stream",
     "text": [
      "[0, 1, 2, 3, 4, 5, 6, 7, 8, 9, 10, 11, 12, 13, 14, 15, 16, 17, 18, 19, 20, 21, 22, 23, 24, 25, 26, 27, 28, 29, 30, 31, 32, 33, 34, 35, 36, 37, 38, 39, 40, 41, 42, 43, 44, 45, 46, 47, 48, 49, 50, 51, 52, 53, 54, 55, 56, 57, 58, 59, 60, 61, 62, 63, 64, 65, 66, 67, 68, 69, 70, 71, 72, 73, 74, 75, 76, 77, 527, 960, 961, 962, 963, 964, 965, 966, 967, 968, 969, 970, 971, 972, 973, 974, 975, 976, 977, 978, 979, 980, 981, 982, 983, 984, 985, 986, 987, 988, 989, 990, 991, 992, 993, 994, 995, 996, 997, 998, 999, 1000, 1001, 1002, 1003, 1004, 1005, 1006, 1007, 1008, 1009, 1010, 1011, 1012, 1013, 1014, 1015, 1016, 1017, 1018, 1019, 1020, 1021, 1022, 1023]\n"
     ]
    }
   ],
   "source": [
    "#Pbvious.\n",
    "seatlist = [seat for row in seats for seat in row]\n",
    "untaken_seats = [seat for seat in seatlist if seat not in taken_seats]\n",
    "print(untaken_seats)"
   ]
  },
  {
   "cell_type": "code",
   "execution_count": null,
   "metadata": {},
   "outputs": [],
   "source": []
  }
 ],
 "metadata": {
  "kernelspec": {
   "display_name": "Python 3",
   "language": "python",
   "name": "python3"
  },
  "language_info": {
   "codemirror_mode": {
    "name": "ipython",
    "version": 3
   },
   "file_extension": ".py",
   "mimetype": "text/x-python",
   "name": "python",
   "nbconvert_exporter": "python",
   "pygments_lexer": "ipython3",
   "version": "3.7.6"
  }
 },
 "nbformat": 4,
 "nbformat_minor": 4
}
