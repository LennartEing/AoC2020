{
 "cells": [
  {
   "cell_type": "code",
   "execution_count": 48,
   "metadata": {},
   "outputs": [
    {
     "data": {
      "text/plain": [
       "165"
      ]
     },
     "execution_count": 48,
     "metadata": {},
     "output_type": "execute_result"
    }
   ],
   "source": [
    "import re\n",
    "\n",
    "from abc import abstractmethod\n",
    "\n",
    "class Instruction():\n",
    "    \n",
    "    def __init__(self, value):\n",
    "        self.value = value\n",
    "    \n",
    "    @abstractmethod\n",
    "    def apply(self, memory, mask):\n",
    "        pass\n",
    "    \n",
    "class MemWriteInstruction(Instruction):\n",
    "    \n",
    "    def __init__(self, value):\n",
    "        super(MemWriteInstruction, self).__init__(value)\n",
    "        self.memoryaddr = int(self.value[0])\n",
    "        self.writeval = int(self.value[1])\n",
    "        \n",
    "    def apply(self, memory, mask):\n",
    "        valuestring = \"0b\"\n",
    "        for idx, bitstring in enumerate(mask):\n",
    "            if bitstring == 'X':\n",
    "                valuestring += str((self.writeval & (1 << (len(mask) - idx - 1))) >> (len(mask) - idx - 1))\n",
    "            else:\n",
    "                valuestring += bitstring\n",
    "        value = int(valuestring, 2)\n",
    "        memory[self.memoryaddr] = value\n",
    "        return memory, mask\n",
    "    \n",
    "class MaskChangeInstruction(Instruction):\n",
    "    \n",
    "    def __init__(self, value):\n",
    "        super(MaskChangeInstruction, self).__init__(value)\n",
    "        self.mask = self.value\n",
    "        \n",
    "    def apply(self, memory, mask):\n",
    "        return memory, self.mask\n",
    "\n",
    "class Computer():\n",
    "    \n",
    "    def __init__(self):\n",
    "        self.memory = dict()\n",
    "        self.mask = None\n",
    "    \n",
    "    def _apply(self, instruction):\n",
    "        self.memory, self.mask = instruction.apply(self.memory, self.mask)\n",
    "        \n",
    "    def run(self, instructionset):\n",
    "        for instruction in instructionset:\n",
    "            self._apply(instruction)\n",
    "        return self.memory, self.mask\n",
    "\n",
    "maskregex = r\"mask=(?P<mask>[X|1|0]{36})\"\n",
    "memregex = r\"mem\\[(?P<addr>\\d+)\\]=(?P<val>\\d+)\"\n",
    "\n",
    "    \n",
    "def build(stringrep):\n",
    "    if re.match(maskregex, stringrep):\n",
    "        mask = re.match(maskregex, stringrep).group(\"mask\")\n",
    "        return MaskChangeInstruction(mask)\n",
    "    elif re.match(memregex, stringrep):\n",
    "        memaddr = re.match(memregex, stringrep).group(\"addr\")\n",
    "        memval = re.match(memregex, stringrep).group(\"val\")\n",
    "        return MemWriteInstruction((memaddr, memval))\n",
    "\n",
    "filename = \"./input.txt\"\n",
    "with open(filename) as f:\n",
    "    content = [line.strip() for line in f.readlines()]\n",
    "    content = [\"\".join(line.split()) for line in content]\n",
    "\n",
    "computer = Computer()\n",
    "instructionset = [build(rep) for rep in content]\n",
    "memory, _ = computer.run(instructionset)\n",
    "sum(memory.values())"
   ]
  },
  {
   "cell_type": "code",
   "execution_count": null,
   "metadata": {},
   "outputs": [],
   "source": []
  }
 ],
 "metadata": {
  "kernelspec": {
   "display_name": "Python 3",
   "language": "python",
   "name": "python3"
  },
  "language_info": {
   "codemirror_mode": {
    "name": "ipython",
    "version": 3
   },
   "file_extension": ".py",
   "mimetype": "text/x-python",
   "name": "python",
   "nbconvert_exporter": "python",
   "pygments_lexer": "ipython3",
   "version": "3.8.5"
  }
 },
 "nbformat": 4,
 "nbformat_minor": 4
}
