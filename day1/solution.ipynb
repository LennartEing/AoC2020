{
 "cells": [
  {
   "cell_type": "code",
   "execution_count": 6,
   "metadata": {},
   "outputs": [
    {
     "name": "stdout",
     "output_type": "stream",
     "text": [
      "249 1771\n",
      "440979\n"
     ]
    }
   ],
   "source": [
    "#Read file from input and transform into array of integers.\n",
    "filename = \"./input.txt\"\n",
    "with open(filename) as f:\n",
    "    content = f.readlines()\n",
    "content = [int(line.strip()) for line in content]\n",
    "\n",
    "#Sort array to be able to use linear search. This itself happens in O(nlogn).\n",
    "content.sort()\n",
    "\n",
    "#Perform O(n)search over array.\n",
    "def find2(arr, num):\n",
    "    if len(arr) < 2:\n",
    "        return None\n",
    "    added = arr[0] + arr[-1]\n",
    "    #Lower bound is too low\n",
    "    if added < num:\n",
    "        return find2(arr[1:], num)\n",
    "    #Upper bound is too high\n",
    "    elif added > num:\n",
    "        return find2(arr[:-1], num)\n",
    "    #Found a pair of numbers\n",
    "    elif added == num:\n",
    "        return arr[0], arr[-1]\n",
    "    \n",
    "low, high = find2(content, 2020)\n",
    "print(low, high)\n",
    "print(low * high)"
   ]
  },
  {
   "cell_type": "code",
   "execution_count": 7,
   "metadata": {},
   "outputs": [
    {
     "name": "stdout",
     "output_type": "stream",
     "text": [
      "82498112\n"
     ]
    }
   ],
   "source": [
    "#Use O(n^2) search. Possibly O(nlogn) is possible, I'm not sure though\n",
    "def find3(arr, num):\n",
    "    tup = find2(arr[1:], num - arr[0])\n",
    "    if tup is not None:\n",
    "        return tup[0], tup[1], arr[0]\n",
    "    else:\n",
    "        return find3(arr[1:], num)\n",
    "    \n",
    "first, second, third = find3(content, 2020)\n",
    "print(first * second * third)"
   ]
  },
  {
   "cell_type": "code",
   "execution_count": null,
   "metadata": {},
   "outputs": [],
   "source": []
  }
 ],
 "metadata": {
  "kernelspec": {
   "display_name": "Python 3",
   "language": "python",
   "name": "python3"
  },
  "language_info": {
   "codemirror_mode": {
    "name": "ipython",
    "version": 3
   },
   "file_extension": ".py",
   "mimetype": "text/x-python",
   "name": "python",
   "nbconvert_exporter": "python",
   "pygments_lexer": "ipython3",
   "version": "3.7.6"
  }
 },
 "nbformat": 4,
 "nbformat_minor": 4
}
