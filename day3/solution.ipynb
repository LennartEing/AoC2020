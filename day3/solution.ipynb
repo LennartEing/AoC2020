{
 "cells": [
  {
   "cell_type": "code",
   "execution_count": 32,
   "metadata": {},
   "outputs": [
    {
     "name": "stdout",
     "output_type": "stream",
     "text": [
      "203\n"
     ]
    }
   ],
   "source": [
    "from collections import deque\n",
    "\n",
    "def count_trees(right, down):\n",
    "    #Reading file for every call to have fresh unrotated deques.\n",
    "    filename = \"./input.txt\"\n",
    "    with open(filename) as f:\n",
    "        content = f.readlines()\n",
    "\n",
    "    #Removing whitespace from input, then putting each line into a deque.\n",
    "    #I use deque because I don' want to think about mod operations on indices\n",
    "    #(even though this can be done with slicing). instead I simply rotate the whole\n",
    "    #cylindrically formed map beneath.\n",
    "    content = [deque(line.strip()) for line in content] \n",
    "    \n",
    "    \n",
    "    tree_count = 0\n",
    "    steps = 0\n",
    "    \n",
    "    #Do it until I reach the bottom\n",
    "    for index in range(0, len(content), down):\n",
    "        \n",
    "        #Rotate the row I am in right now by the total amount of rotation done since the start.\n",
    "        content[index].rotate(-(steps * right))\n",
    "        \n",
    "        #Count up the trees.\n",
    "        if content[index][0] is '#':\n",
    "            tree_count += 1\n",
    "        steps += 1\n",
    "    return tree_count\n",
    "\n",
    "print(count_trees(3,1))"
   ]
  },
  {
   "cell_type": "code",
   "execution_count": 29,
   "metadata": {},
   "outputs": [
    {
     "name": "stdout",
     "output_type": "stream",
     "text": [
      "68\n",
      "78\n",
      "77\n",
      "40\n",
      "3316272960\n"
     ]
    }
   ],
   "source": [
    "print(count_trees(1,1))\n",
    "print(count_trees(5,1))\n",
    "print(count_trees(7,1))\n",
    "print(count_trees(1,2))\n",
    "print(203*68*78*77*40)"
   ]
  },
  {
   "cell_type": "code",
   "execution_count": null,
   "metadata": {},
   "outputs": [],
   "source": []
  }
 ],
 "metadata": {
  "kernelspec": {
   "display_name": "Python 3",
   "language": "python",
   "name": "python3"
  },
  "language_info": {
   "codemirror_mode": {
    "name": "ipython",
    "version": 3
   },
   "file_extension": ".py",
   "mimetype": "text/x-python",
   "name": "python",
   "nbconvert_exporter": "python",
   "pygments_lexer": "ipython3",
   "version": "3.7.6"
  }
 },
 "nbformat": 4,
 "nbformat_minor": 4
}
