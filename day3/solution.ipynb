{
 "cells": [
  {
   "cell_type": "code",
   "execution_count": 25,
   "metadata": {},
   "outputs": [
    {
     "name": "stdout",
     "output_type": "stream",
     "text": [
      "203\n"
     ]
    }
   ],
   "source": [
    "from collections import deque\n",
    "\n",
    "def count_trees(right, down):\n",
    "    filename = \"./input.txt\"\n",
    "    with open(filename) as f:\n",
    "        content = f.readlines()\n",
    "    content = [deque(line.strip()) for line in content] \n",
    "    tree_count = 0\n",
    "    steps = 0\n",
    "    for index in range(0, len(content), down):\n",
    "        content[index].rotate(-(steps * right))\n",
    "        if content[index][0] is '#':\n",
    "            tree_count += 1\n",
    "        steps += 1\n",
    "    return tree_count\n",
    "\n",
    "print(count_trees(3,1))"
   ]
  },
  {
   "cell_type": "code",
   "execution_count": 28,
   "metadata": {},
   "outputs": [
    {
     "name": "stdout",
     "output_type": "stream",
     "text": [
      "68\n",
      "78\n",
      "77\n",
      "40\n"
     ]
    }
   ],
   "source": [
    "print(count_trees(1,1))\n",
    "print(count_trees(5,1))\n",
    "print(count_trees(7,1))\n",
    "print(count_trees(1,2))"
   ]
  },
  {
   "cell_type": "code",
   "execution_count": null,
   "metadata": {},
   "outputs": [],
   "source": []
  }
 ],
 "metadata": {
  "kernelspec": {
   "display_name": "Python 3",
   "language": "python",
   "name": "python3"
  },
  "language_info": {
   "codemirror_mode": {
    "name": "ipython",
    "version": 3
   },
   "file_extension": ".py",
   "mimetype": "text/x-python",
   "name": "python",
   "nbconvert_exporter": "python",
   "pygments_lexer": "ipython3",
   "version": "3.7.6"
  }
 },
 "nbformat": 4,
 "nbformat_minor": 4
}
