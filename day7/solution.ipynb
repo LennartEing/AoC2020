{
 "cells": [
  {
   "cell_type": "code",
   "execution_count": 75,
   "metadata": {},
   "outputs": [
    {
     "name": "stdout",
     "output_type": "stream",
     "text": [
      "115\n"
     ]
    }
   ],
   "source": [
    "from collections import deque\n",
    "\n",
    "filename = \"./input.txt\"\n",
    "with open(filename) as f:\n",
    "    content = f.readlines()\n",
    "    \n",
    "#Transforming the input into somehting useful\n",
    "#Get rid of all whitespace\n",
    "content = [\"\".join(line.strip().split()) for line in content]\n",
    "\n",
    "#Get rid of all '.' at the end of each line\n",
    "content = [line[:-1] for line in content]\n",
    "\n",
    "#Get rid of plural and singular\n",
    "content = [line.replace(\"bags\", \"\") for line in content]\n",
    "content = [line.replace(\"bag\", \"\") for line in content]\n",
    "\n",
    "#Split into rules by using the separator \"contains\"\n",
    "content = [line.split(\"contain\") for line in content]\n",
    "\n",
    "#Split into list of rules by using ',' as the separator between the rules.\n",
    "#Excluding the ones where the first letter is 'n'. These are the ones called 'noother'.\n",
    "#This is ugly but works.\n",
    "content = [[line[0], [(int(rule[0]), rule[1:]) for rule in line[1].split(',') if not rule[0] == 'n']] for line in content]\n",
    "\n",
    "#Tupleization\n",
    "content = [tuple(line) for line in content]\n",
    "\n",
    "#So that I can build a dict.\n",
    "ruleset = dict(content)\n",
    "\n",
    "#Recursive search of the correct bag.\n",
    "def find(stack, rules, bag):\n",
    "    start = stack.pop()\n",
    "    if start == bag:\n",
    "        return True\n",
    "    for rule in rules[start]:\n",
    "        stack.append(rule[1])\n",
    "        if find(stack, rules, bag):\n",
    "            return True\n",
    "    return False\n",
    "\n",
    "stack = list()\n",
    "count = 0\n",
    "\n",
    "#Search bag in the tree of each possible bagtype.\n",
    "for key in ruleset.keys():\n",
    "    if key == 'shinygold':\n",
    "        continue\n",
    "    stack.append(key)\n",
    "    #Count them up.\n",
    "    if find(stack, ruleset, 'shinygold'):\n",
    "        count += 1\n",
    "        \n",
    "#Print the answer\n",
    "print(count)"
   ]
  },
  {
   "cell_type": "code",
   "execution_count": 77,
   "metadata": {},
   "outputs": [
    {
     "name": "stdout",
     "output_type": "stream",
     "text": [
      "1251\n"
     ]
    }
   ],
   "source": [
    "#Recursive counting of bags down the line.\n",
    "#This method produces an off by one error. (+1)\n",
    "def count(stack, rules):\n",
    "    start = stack.pop()\n",
    "    counter = 1\n",
    "    for rule in rules[start]:\n",
    "        stack.append(rule[1])\n",
    "        counter += rule[0] * count(stack, rules)\n",
    "    return counter\n",
    "\n",
    "stack = list()\n",
    "stack.append('shinygold')\n",
    "\n",
    "#Off by one error.\n",
    "print(count(stack, ruleset) - 1)"
   ]
  },
  {
   "cell_type": "code",
   "execution_count": null,
   "metadata": {},
   "outputs": [],
   "source": []
  }
 ],
 "metadata": {
  "kernelspec": {
   "display_name": "Python 3",
   "language": "python",
   "name": "python3"
  },
  "language_info": {
   "codemirror_mode": {
    "name": "ipython",
    "version": 3
   },
   "file_extension": ".py",
   "mimetype": "text/x-python",
   "name": "python",
   "nbconvert_exporter": "python",
   "pygments_lexer": "ipython3",
   "version": "3.7.6"
  }
 },
 "nbformat": 4,
 "nbformat_minor": 4
}
