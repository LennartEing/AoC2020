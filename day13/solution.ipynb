{
 "cells": [
  {
   "cell_type": "code",
   "execution_count": 1,
   "metadata": {},
   "outputs": [
    {
     "name": "stdout",
     "output_type": "stream",
     "text": [
      "4315\n"
     ]
    }
   ],
   "source": [
    "from math import ceil\n",
    "\n",
    "filename = \"./input.txt\"\n",
    "with open(filename) as f:\n",
    "    content = [line.strip() for line in f.readlines()]\n",
    "\n",
    "earliest_departure = int(content[0])\n",
    "busses = [int(bus) for bus in content[1].split(',') if bus != 'x']\n",
    "smallest_multiples = {bus: ceil(earliest_departure / bus) * bus for bus in busses}\n",
    "earliest_bus = min(smallest_multiples, key=smallest_multiples.get)\n",
    "result1 = earliest_bus * (smallest_multiples[earliest_bus] - earliest_departure)\n",
    "print(result1)"
   ]
  },
  {
   "cell_type": "code",
   "execution_count": 3,
   "metadata": {},
   "outputs": [
    {
     "name": "stdout",
     "output_type": "stream",
     "text": [
      "556100168221141\n"
     ]
    }
   ],
   "source": [
    "from functools import reduce\n",
    "\n",
    "def chinese_remainder_gaussian(a, mod_prod, n):\n",
    "    result = 0\n",
    "    for i in range(len(n)):\n",
    "        result += a[i] * mod_prod // n[i] * pow((mod_prod // n[i]), -1, n[i])\n",
    "    return result % mod_prod\n",
    "\n",
    "with open(filename) as file:\n",
    "    file.readline()\n",
    "    bus_ids = file.readline().strip().split(',')\n",
    "pairs = []\n",
    "count = 0\n",
    "\n",
    "#Calculating the offsets\n",
    "for bus_id in bus_ids:\n",
    "    if bus_id != 'x':\n",
    "        pairs.append((int(bus_id), count))\n",
    "    count += 1\n",
    "\n",
    "moduli_product = reduce(lambda x, y: x * y, [pair[0] for pair in pairs])\n",
    "\n",
    "print(chinese_remainder_gaussian([p[0] - p[1] for p in pairs], moduli_product, [p[0] for p in pairs]))"
   ]
  },
  {
   "cell_type": "code",
   "execution_count": null,
   "metadata": {},
   "outputs": [],
   "source": []
  }
 ],
 "metadata": {
  "kernelspec": {
   "display_name": "Python 3",
   "language": "python",
   "name": "python3"
  },
  "language_info": {
   "codemirror_mode": {
    "name": "ipython",
    "version": 3
   },
   "file_extension": ".py",
   "mimetype": "text/x-python",
   "name": "python",
   "nbconvert_exporter": "python",
   "pygments_lexer": "ipython3",
   "version": "3.8.5"
  }
 },
 "nbformat": 4,
 "nbformat_minor": 4
}
