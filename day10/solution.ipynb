{
 "cells": [
  {
   "cell_type": "code",
   "execution_count": 1,
   "metadata": {},
   "outputs": [],
   "source": [
    "filename = \"./input.txt\"\n",
    "with open(filename) as f:\n",
    "    content = [line.strip() for line in f.readlines()]"
   ]
  },
  {
   "cell_type": "code",
   "execution_count": 2,
   "metadata": {},
   "outputs": [],
   "source": [
    "content = [int(line) for line in content]\n",
    "content.sort()"
   ]
  },
  {
   "cell_type": "code",
   "execution_count": 3,
   "metadata": {},
   "outputs": [
    {
     "name": "stdout",
     "output_type": "stream",
     "text": [
      "2112\n"
     ]
    }
   ],
   "source": [
    "def possible_adapters(arr, num):\n",
    "    return [x for x in arr if x <= num + 3 and x - num > 0]\n",
    "\n",
    "\n",
    "count = {}\n",
    "count[1] = 0\n",
    "count[2] = 0\n",
    "count[3] = 0\n",
    "def part1(arr, num):\n",
    "    for possible_adapter in possible_adapters(arr, num):\n",
    "        arr.remove(possible_adapter)\n",
    "        if part1(arr, possible_adapter):\n",
    "            arr.append(possible_adapter)\n",
    "        else:\n",
    "            count[possible_adapter - num] += 1\n",
    "        return arr\n",
    "    \n",
    "part1(content.copy() + [content[-1] + 3], 0)\n",
    "print(count[1] * count[3])"
   ]
  },
  {
   "cell_type": "code",
   "execution_count": 4,
   "metadata": {},
   "outputs": [
    {
     "name": "stdout",
     "output_type": "stream",
     "text": [
      "3022415986688\n"
     ]
    }
   ],
   "source": [
    "def count(adapters_list):\n",
    "    adapters_list.sort()\n",
    "    adapters = [[0, 1]] + [[adapter, 0] for adapter in adapters_list] + [[adapters_list[-1] + 3, 0]]\n",
    "    adapters = {adapter[0]: adapter for adapter in adapters}\n",
    "    for adapter in adapters.values():\n",
    "        for i in range(1, 4):\n",
    "            if adapter[0] + i in adapters:\n",
    "                adder = adapters[adapter[0] + i]\n",
    "                adder[1] += adapter[1]\n",
    "    return adapters[162][1]\n",
    "    \n",
    "print(count(content.copy()))"
   ]
  },
  {
   "cell_type": "code",
   "execution_count": null,
   "metadata": {},
   "outputs": [],
   "source": []
  }
 ],
 "metadata": {
  "kernelspec": {
   "display_name": "Python 3",
   "language": "python",
   "name": "python3"
  },
  "language_info": {
   "codemirror_mode": {
    "name": "ipython",
    "version": 3
   },
   "file_extension": ".py",
   "mimetype": "text/x-python",
   "name": "python",
   "nbconvert_exporter": "python",
   "pygments_lexer": "ipython3",
   "version": "3.7.6"
  }
 },
 "nbformat": 4,
 "nbformat_minor": 4
}
