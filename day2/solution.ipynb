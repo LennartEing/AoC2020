{
 "cells": [
  {
   "cell_type": "code",
   "execution_count": 15,
   "metadata": {},
   "outputs": [
    {
     "name": "stdout",
     "output_type": "stream",
     "text": [
      "460\n"
     ]
    }
   ],
   "source": [
    "import re\n",
    "\n",
    "regex = r\"(?P<lower_bound>[0-9]+)-(?P<upper_bound>[0-9]+)(?P<letter>[a-z]):(?P<password>[a-z]+)\"\n",
    "\n",
    "#Read file from input and transform into array of integers.\n",
    "filename = \"./input.txt\"\n",
    "with open(filename) as f:\n",
    "    content = f.readlines()\n",
    "#Create rule-password tuples.\n",
    "content = [\"\".join(line.split()) for line in content]\n",
    "matches = [re.match(regex, line) for line in content]\n",
    "\n",
    "def check_rule(lower_bound, upper_bound, letter, password):\n",
    "    occurences = password.count(letter)\n",
    "    if occurences > upper_bound or occurences < lower_bound:\n",
    "        return False\n",
    "    return True\n",
    "\n",
    "valid_passwords = []\n",
    "for match in matches:\n",
    "    lower_bound = int(match.group(\"lower_bound\"))\n",
    "    upper_bound = int(match.group(\"upper_bound\"))\n",
    "    letter = match.group(\"letter\")\n",
    "    password = match.group(\"password\")\n",
    "    if check_rule(lower_bound, upper_bound, letter, password):\n",
    "        valid_passwords.append(password)\n",
    "        \n",
    "print(len(valid_passwords))"
   ]
  },
  {
   "cell_type": "code",
   "execution_count": 16,
   "metadata": {},
   "outputs": [
    {
     "name": "stdout",
     "output_type": "stream",
     "text": [
      "251\n"
     ]
    }
   ],
   "source": [
    "def check_new_rule(first_pos, second_pos, letter, password):\n",
    "    is_in_first = password[first_pos - 1] is letter\n",
    "    is_in_second = password[second_pos - 1] is letter\n",
    "    return is_in_first ^ is_in_second\n",
    "\n",
    "valid_passwords = []\n",
    "for match in matches:\n",
    "    lower_bound = int(match.group(\"lower_bound\"))\n",
    "    upper_bound = int(match.group(\"upper_bound\"))\n",
    "    letter = match.group(\"letter\")\n",
    "    password = match.group(\"password\")\n",
    "    if check_new_rule(lower_bound, upper_bound, letter, password):\n",
    "        valid_passwords.append(password)\n",
    "        \n",
    "print(len(valid_passwords))"
   ]
  },
  {
   "cell_type": "code",
   "execution_count": null,
   "metadata": {},
   "outputs": [],
   "source": []
  }
 ],
 "metadata": {
  "kernelspec": {
   "display_name": "Python 3",
   "language": "python",
   "name": "python3"
  },
  "language_info": {
   "codemirror_mode": {
    "name": "ipython",
    "version": 3
   },
   "file_extension": ".py",
   "mimetype": "text/x-python",
   "name": "python",
   "nbconvert_exporter": "python",
   "pygments_lexer": "ipython3",
   "version": "3.7.6"
  }
 },
 "nbformat": 4,
 "nbformat_minor": 4
}
