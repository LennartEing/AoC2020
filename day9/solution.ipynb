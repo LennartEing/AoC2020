{
 "cells": [
  {
   "cell_type": "code",
   "execution_count": 30,
   "metadata": {},
   "outputs": [
    {
     "data": {
      "text/plain": [
       "88311122"
      ]
     },
     "execution_count": 30,
     "metadata": {},
     "output_type": "execute_result"
    }
   ],
   "source": [
    "filename = \"./input.txt\"\n",
    "with open(filename) as f:\n",
    "    content = [int(line.strip()) for line in f.readlines()]\n",
    "\n",
    "def find(arr, num):\n",
    "    if len(arr) < 2:\n",
    "        return False\n",
    "    added = arr[0] + arr[-1]\n",
    "    if added < num:\n",
    "        return find(arr[1:], num)\n",
    "    elif added > num:\n",
    "        return find(arr[:-1], num)\n",
    "    elif added == num:\n",
    "        return True\n",
    "    \n",
    "def check(arr):\n",
    "    for idx in range(25, len(arr), 1):\n",
    "        searchidx = idx - 25\n",
    "        searchable = arr[searchidx : idx]\n",
    "        searchable.sort()\n",
    "        if not find(searchable, arr[idx]):\n",
    "            return arr[idx]\n",
    "    return None\n",
    "\n",
    "print(check(content))"
   ]
  },
  {
   "cell_type": "code",
   "execution_count": 31,
   "metadata": {},
   "outputs": [
    {
     "name": "stdout",
     "output_type": "stream",
     "text": [
      "13549369\n"
     ]
    }
   ],
   "source": [
    "def findsubarray(arr, num):\n",
    "    for i in range(0, len(arr)-1):\n",
    "        for j in range(1, len(arr)-1):\n",
    "            sub = arr[i:j]\n",
    "            if sum(sub) == num and len(sub) > 1:\n",
    "                return sub\n",
    "\n",
    "arr = findsubarray(content, check(content))\n",
    "print(min(arr) + max(arr))"
   ]
  },
  {
   "cell_type": "code",
   "execution_count": null,
   "metadata": {},
   "outputs": [],
   "source": []
  }
 ],
 "metadata": {
  "kernelspec": {
   "display_name": "Python 3",
   "language": "python",
   "name": "python3"
  },
  "language_info": {
   "codemirror_mode": {
    "name": "ipython",
    "version": 3
   },
   "file_extension": ".py",
   "mimetype": "text/x-python",
   "name": "python",
   "nbconvert_exporter": "python",
   "pygments_lexer": "ipython3",
   "version": "3.7.6"
  }
 },
 "nbformat": 4,
 "nbformat_minor": 4
}
