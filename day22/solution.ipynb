{
 "cells": [
  {
   "cell_type": "code",
   "execution_count": 4,
   "metadata": {},
   "outputs": [
    {
     "name": "stdout",
     "output_type": "stream",
     "text": [
      "306\n"
     ]
    }
   ],
   "source": [
    "import copy\n",
    "import numpy as np\n",
    "from collections import deque\n",
    "filename = \"./input.txt\"\n",
    "with open(filename) as f:\n",
    "    from itertools import groupby\n",
    "    content = [line.strip() for line in f.readlines()]\n",
    "    content = [list(sub) for ele, sub in groupby(content, key = bool) if ele] \n",
    "    content = [deck[1:] for deck in content]\n",
    "    content = [[int(num) for num in deck] for deck in content]\n",
    "\n",
    "decks = [deque(deck[::-1]) for deck in content]\n",
    "\n",
    "def regular_combat(decks):\n",
    "    while all(decks):\n",
    "        draws = [deck.pop() for deck in decks]\n",
    "        idx = np.argmax(draws)\n",
    "        decks[idx].appendleft(draws[idx])\n",
    "        decks[idx].appendleft(draws[(idx + 1) % 2])\n",
    "    flatten = lambda t: [item for sublist in t for item in sublist]\n",
    "    winneridx, winnerdeck = flatten([(idx, deck) for idx, deck in enumerate(decks) if deck])\n",
    "    return winneridx, winnerdeck\n",
    "\n",
    "def score(deck):\n",
    "    return sum([(idx + 1) * int(num) for idx, num in enumerate(deck)])\n",
    "\n",
    "_, winnerdeck = regular_combat([copy.copy(deck) for deck in decks])\n",
    "winner_score = score(winnerdeck)\n",
    "print(winner_score)"
   ]
  },
  {
   "cell_type": "code",
   "execution_count": 6,
   "metadata": {
    "scrolled": false
   },
   "outputs": [
    {
     "name": "stdout",
     "output_type": "stream",
     "text": [
      "306\n"
     ]
    }
   ],
   "source": [
    "def recursive_combat(decks, occurred_decks, depth):\n",
    "    rounds = 1\n",
    "    while all(decks):\n",
    "        # print(\"-- Round \" + str(rounds) + \"  (Game \" + str(depth) + \") --\")\n",
    "        # print(\"Player 1's deck: \" + str(list(decks[0])[::-1]))\n",
    "        # print(\"Player 2's deck: \" + str(list(decks[1])[::-1]))\n",
    "        if tuple(decks[0] + decks[1]) in occurred_decks:\n",
    "            return 0, decks[0]\n",
    "        occurred_decks.add(tuple(decks[0] + decks[1]))\n",
    "        draws = [deck.pop() for deck in decks]\n",
    "        # print(\"Player 1 plays: \" + str(draws[0]))\n",
    "        # print(\"Player 2 plays: \" + str(draws[1]))\n",
    "        if all([len(decks[idx]) >= draw for idx, draw in enumerate(draws)]):\n",
    "            # print(\"Playing a sub-game to determine a winner...\")\n",
    "            # print(\"\\n\")\n",
    "            new_decks = [copy.copy(deque(list(deck)[:draws[idx]])) for idx, deck in enumerate(decks)]\n",
    "            winner_idx, _ = recursive_combat(new_decks, occurred_decks, depth + 1)\n",
    "            # print(\"The winner of game \" + str(depth + 1) + \" is player \" + str(winner_idx + 1))\n",
    "            # print(\"...anyway, back to game \" + str(depth) + \".\")\n",
    "        else:\n",
    "            winner_idx = np.argmax(draws)\n",
    "        # print(\"Player \" + str(winner_idx + 1) + \" wins round \" + str(rounds) + \" of game \" + str(depth))\n",
    "        decks[winner_idx].appendleft(draws[winner_idx])\n",
    "        decks[winner_idx].appendleft(draws[(winner_idx + 1) % 2])\n",
    "        rounds += 1\n",
    "        # print(\"\\n\")\n",
    "    flatten = lambda t: [item for sublist in t for item in sublist]\n",
    "    winneridx, winnerdeck = flatten([(idx, deck) for idx, deck in enumerate(decks) if deck])\n",
    "    return winneridx, winnerdeck\n",
    "\n",
    "winner_idx, winner_deck = recursive_combat([copy.copy(deck) for deck in decks], set(), 1)\n",
    "winner_score = score(winner_deck)\n",
    "print(winner_score)"
   ]
  },
  {
   "cell_type": "code",
   "execution_count": null,
   "metadata": {},
   "outputs": [],
   "source": []
  }
 ],
 "metadata": {
  "kernelspec": {
   "display_name": "Python 3",
   "language": "python",
   "name": "python3"
  },
  "language_info": {
   "codemirror_mode": {
    "name": "ipython",
    "version": 3
   },
   "file_extension": ".py",
   "mimetype": "text/x-python",
   "name": "python",
   "nbconvert_exporter": "python",
   "pygments_lexer": "ipython3",
   "version": "3.8.5"
  }
 },
 "nbformat": 4,
 "nbformat_minor": 4
}
